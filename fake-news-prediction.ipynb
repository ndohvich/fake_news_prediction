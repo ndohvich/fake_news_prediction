{
 "cells": [
  {
   "cell_type": "code",
   "execution_count": 1,
   "id": "b9266fc3",
   "metadata": {
    "execution": {
     "iopub.execute_input": "2022-07-03T07:48:02.393858Z",
     "iopub.status.busy": "2022-07-03T07:48:02.393425Z",
     "iopub.status.idle": "2022-07-03T07:48:04.260637Z",
     "shell.execute_reply": "2022-07-03T07:48:04.259559Z"
    },
    "papermill": {
     "duration": 1.880961,
     "end_time": "2022-07-03T07:48:04.263551",
     "exception": false,
     "start_time": "2022-07-03T07:48:02.382590",
     "status": "completed"
    },
    "tags": []
   },
   "outputs": [],
   "source": [
    "# Importation des librairies nécessaires\n",
    "import numpy as np\n",
    "import pandas as pd\n",
    "import re\n",
    "from nltk.corpus import stopwords\n",
    "from nltk.stem.porter import PorterStemmer\n",
    "from sklearn.feature_extraction.text import TfidfVectorizer\n",
    "from sklearn.model_selection import train_test_split\n",
    "from sklearn.linear_model import LogisticRegression\n",
    "from sklearn.metrics import accuracy_score"
   ]
  },
  {
   "cell_type": "code",
   "execution_count": 2,
   "id": "1756d7bc",
   "metadata": {
    "execution": {
     "iopub.execute_input": "2022-07-03T07:48:04.282666Z",
     "iopub.status.busy": "2022-07-03T07:48:04.281735Z",
     "iopub.status.idle": "2022-07-03T07:48:04.376729Z",
     "shell.execute_reply": "2022-07-03T07:48:04.375121Z"
    },
    "papermill": {
     "duration": 0.106927,
     "end_time": "2022-07-03T07:48:04.379297",
     "exception": false,
     "start_time": "2022-07-03T07:48:04.272370",
     "status": "completed"
    },
    "tags": []
   },
   "outputs": [
    {
     "name": "stdout",
     "output_type": "stream",
     "text": [
      "[nltk_data] Downloading package stopwords to /usr/share/nltk_data...\n",
      "[nltk_data]   Package stopwords is already up-to-date!\n"
     ]
    },
    {
     "data": {
      "text/plain": [
       "True"
      ]
     },
     "execution_count": 2,
     "metadata": {},
     "output_type": "execute_result"
    }
   ],
   "source": [
    "import nltk\n",
    "nltk.download('stopwords')"
   ]
  },
  {
   "cell_type": "code",
   "execution_count": 3,
   "id": "b0704b71",
   "metadata": {
    "execution": {
     "iopub.execute_input": "2022-07-03T07:48:04.396900Z",
     "iopub.status.busy": "2022-07-03T07:48:04.396488Z",
     "iopub.status.idle": "2022-07-03T07:48:04.405169Z",
     "shell.execute_reply": "2022-07-03T07:48:04.403693Z"
    },
    "papermill": {
     "duration": 0.020389,
     "end_time": "2022-07-03T07:48:04.407539",
     "exception": false,
     "start_time": "2022-07-03T07:48:04.387150",
     "status": "completed"
    },
    "tags": []
   },
   "outputs": [
    {
     "name": "stdout",
     "output_type": "stream",
     "text": [
      "['i', 'me', 'my', 'myself', 'we', 'our', 'ours', 'ourselves', 'you', \"you're\", \"you've\", \"you'll\", \"you'd\", 'your', 'yours', 'yourself', 'yourselves', 'he', 'him', 'his', 'himself', 'she', \"she's\", 'her', 'hers', 'herself', 'it', \"it's\", 'its', 'itself', 'they', 'them', 'their', 'theirs', 'themselves', 'what', 'which', 'who', 'whom', 'this', 'that', \"that'll\", 'these', 'those', 'am', 'is', 'are', 'was', 'were', 'be', 'been', 'being', 'have', 'has', 'had', 'having', 'do', 'does', 'did', 'doing', 'a', 'an', 'the', 'and', 'but', 'if', 'or', 'because', 'as', 'until', 'while', 'of', 'at', 'by', 'for', 'with', 'about', 'against', 'between', 'into', 'through', 'during', 'before', 'after', 'above', 'below', 'to', 'from', 'up', 'down', 'in', 'out', 'on', 'off', 'over', 'under', 'again', 'further', 'then', 'once', 'here', 'there', 'when', 'where', 'why', 'how', 'all', 'any', 'both', 'each', 'few', 'more', 'most', 'other', 'some', 'such', 'no', 'nor', 'not', 'only', 'own', 'same', 'so', 'than', 'too', 'very', 's', 't', 'can', 'will', 'just', 'don', \"don't\", 'should', \"should've\", 'now', 'd', 'll', 'm', 'o', 're', 've', 'y', 'ain', 'aren', \"aren't\", 'couldn', \"couldn't\", 'didn', \"didn't\", 'doesn', \"doesn't\", 'hadn', \"hadn't\", 'hasn', \"hasn't\", 'haven', \"haven't\", 'isn', \"isn't\", 'ma', 'mightn', \"mightn't\", 'mustn', \"mustn't\", 'needn', \"needn't\", 'shan', \"shan't\", 'shouldn', \"shouldn't\", 'wasn', \"wasn't\", 'weren', \"weren't\", 'won', \"won't\", 'wouldn', \"wouldn't\"]\n"
     ]
    }
   ],
   "source": [
    "# printing the stopwords in English\n",
    "print(stopwords.words('english'))"
   ]
  },
  {
   "cell_type": "code",
   "execution_count": 4,
   "id": "07f4f309",
   "metadata": {
    "execution": {
     "iopub.execute_input": "2022-07-03T07:48:04.426716Z",
     "iopub.status.busy": "2022-07-03T07:48:04.425854Z",
     "iopub.status.idle": "2022-07-03T07:48:07.132357Z",
     "shell.execute_reply": "2022-07-03T07:48:07.131363Z"
    },
    "papermill": {
     "duration": 2.71888,
     "end_time": "2022-07-03T07:48:07.134966",
     "exception": false,
     "start_time": "2022-07-03T07:48:04.416086",
     "status": "completed"
    },
    "tags": []
   },
   "outputs": [],
   "source": [
    "# loading the dataset to a pandas DataFrame\n",
    "news_dataset = pd.read_csv('../input/fake-news/train.csv')"
   ]
  },
  {
   "cell_type": "code",
   "execution_count": 5,
   "id": "ea9b1aeb",
   "metadata": {
    "execution": {
     "iopub.execute_input": "2022-07-03T07:48:07.153259Z",
     "iopub.status.busy": "2022-07-03T07:48:07.152622Z",
     "iopub.status.idle": "2022-07-03T07:48:07.160785Z",
     "shell.execute_reply": "2022-07-03T07:48:07.159188Z"
    },
    "papermill": {
     "duration": 0.020294,
     "end_time": "2022-07-03T07:48:07.163445",
     "exception": false,
     "start_time": "2022-07-03T07:48:07.143151",
     "status": "completed"
    },
    "tags": []
   },
   "outputs": [
    {
     "data": {
      "text/plain": [
       "(20800, 5)"
      ]
     },
     "execution_count": 5,
     "metadata": {},
     "output_type": "execute_result"
    }
   ],
   "source": [
    "news_dataset.shape"
   ]
  },
  {
   "cell_type": "code",
   "execution_count": 6,
   "id": "cde35ee3",
   "metadata": {
    "execution": {
     "iopub.execute_input": "2022-07-03T07:48:07.181616Z",
     "iopub.status.busy": "2022-07-03T07:48:07.181229Z",
     "iopub.status.idle": "2022-07-03T07:48:07.204226Z",
     "shell.execute_reply": "2022-07-03T07:48:07.202851Z"
    },
    "papermill": {
     "duration": 0.035248,
     "end_time": "2022-07-03T07:48:07.207002",
     "exception": false,
     "start_time": "2022-07-03T07:48:07.171754",
     "status": "completed"
    },
    "tags": []
   },
   "outputs": [
    {
     "data": {
      "text/plain": [
       "id           0\n",
       "title      558\n",
       "author    1957\n",
       "text        39\n",
       "label        0\n",
       "dtype: int64"
      ]
     },
     "execution_count": 6,
     "metadata": {},
     "output_type": "execute_result"
    }
   ],
   "source": [
    "news_dataset.isnull().sum()"
   ]
  },
  {
   "cell_type": "code",
   "execution_count": 7,
   "id": "b6359321",
   "metadata": {
    "execution": {
     "iopub.execute_input": "2022-07-03T07:48:07.226448Z",
     "iopub.status.busy": "2022-07-03T07:48:07.225591Z",
     "iopub.status.idle": "2022-07-03T07:48:07.263816Z",
     "shell.execute_reply": "2022-07-03T07:48:07.261848Z"
    },
    "papermill": {
     "duration": 0.051431,
     "end_time": "2022-07-03T07:48:07.266794",
     "exception": false,
     "start_time": "2022-07-03T07:48:07.215363",
     "status": "completed"
    },
    "tags": []
   },
   "outputs": [
    {
     "name": "stdout",
     "output_type": "stream",
     "text": [
      "0        Darrell Lucus House Dem Aide: We Didn’t Even S...\n",
      "1        Daniel J. Flynn FLYNN: Hillary Clinton, Big Wo...\n",
      "2        Consortiumnews.com Why the Truth Might Get You...\n",
      "3        Jessica Purkiss 15 Civilians Killed In Single ...\n",
      "4        Howard Portnoy Iranian woman jailed for fictio...\n",
      "                               ...                        \n",
      "20795    Jerome Hudson Rapper T.I.: Trump a ’Poster Chi...\n",
      "20796    Benjamin Hoffman N.F.L. Playoffs: Schedule, Ma...\n",
      "20797    Michael J. de la Merced and Rachel Abrams Macy...\n",
      "20798    Alex Ansary NATO, Russia To Hold Parallel Exer...\n",
      "20799              David Swanson What Keeps the F-35 Alive\n",
      "Name: content, Length: 20800, dtype: object\n"
     ]
    }
   ],
   "source": [
    "news_dataset = news_dataset.fillna('')\n",
    "news_dataset['content'] = news_dataset['author']+' '+news_dataset['title']\n",
    "print(news_dataset['content'])"
   ]
  },
  {
   "cell_type": "code",
   "execution_count": 8,
   "id": "a7a0394e",
   "metadata": {
    "execution": {
     "iopub.execute_input": "2022-07-03T07:48:07.285933Z",
     "iopub.status.busy": "2022-07-03T07:48:07.285565Z",
     "iopub.status.idle": "2022-07-03T07:48:07.303098Z",
     "shell.execute_reply": "2022-07-03T07:48:07.302038Z"
    },
    "papermill": {
     "duration": 0.030241,
     "end_time": "2022-07-03T07:48:07.305689",
     "exception": false,
     "start_time": "2022-07-03T07:48:07.275448",
     "status": "completed"
    },
    "tags": []
   },
   "outputs": [],
   "source": [
    "# separating the data & label\n",
    "X = news_dataset.drop(columns='label', axis=1)\n",
    "Y = news_dataset['label']"
   ]
  },
  {
   "cell_type": "code",
   "execution_count": 9,
   "id": "acf33252",
   "metadata": {
    "execution": {
     "iopub.execute_input": "2022-07-03T07:48:07.324437Z",
     "iopub.status.busy": "2022-07-03T07:48:07.324032Z",
     "iopub.status.idle": "2022-07-03T07:48:07.337699Z",
     "shell.execute_reply": "2022-07-03T07:48:07.336377Z"
    },
    "papermill": {
     "duration": 0.027854,
     "end_time": "2022-07-03T07:48:07.341988",
     "exception": false,
     "start_time": "2022-07-03T07:48:07.314134",
     "status": "completed"
    },
    "tags": []
   },
   "outputs": [
    {
     "name": "stdout",
     "output_type": "stream",
     "text": [
      "          id                                              title  \\\n",
      "0          0  House Dem Aide: We Didn’t Even See Comey’s Let...   \n",
      "1          1  FLYNN: Hillary Clinton, Big Woman on Campus - ...   \n",
      "2          2                  Why the Truth Might Get You Fired   \n",
      "3          3  15 Civilians Killed In Single US Airstrike Hav...   \n",
      "4          4  Iranian woman jailed for fictional unpublished...   \n",
      "...      ...                                                ...   \n",
      "20795  20795  Rapper T.I.: Trump a ’Poster Child For White S...   \n",
      "20796  20796  N.F.L. Playoffs: Schedule, Matchups and Odds -...   \n",
      "20797  20797  Macy’s Is Said to Receive Takeover Approach by...   \n",
      "20798  20798  NATO, Russia To Hold Parallel Exercises In Bal...   \n",
      "20799  20799                          What Keeps the F-35 Alive   \n",
      "\n",
      "                                          author  \\\n",
      "0                                  Darrell Lucus   \n",
      "1                                Daniel J. Flynn   \n",
      "2                             Consortiumnews.com   \n",
      "3                                Jessica Purkiss   \n",
      "4                                 Howard Portnoy   \n",
      "...                                          ...   \n",
      "20795                              Jerome Hudson   \n",
      "20796                           Benjamin Hoffman   \n",
      "20797  Michael J. de la Merced and Rachel Abrams   \n",
      "20798                                Alex Ansary   \n",
      "20799                              David Swanson   \n",
      "\n",
      "                                                    text  \\\n",
      "0      House Dem Aide: We Didn’t Even See Comey’s Let...   \n",
      "1      Ever get the feeling your life circles the rou...   \n",
      "2      Why the Truth Might Get You Fired October 29, ...   \n",
      "3      Videos 15 Civilians Killed In Single US Airstr...   \n",
      "4      Print \\nAn Iranian woman has been sentenced to...   \n",
      "...                                                  ...   \n",
      "20795  Rapper T. I. unloaded on black celebrities who...   \n",
      "20796  When the Green Bay Packers lost to the Washing...   \n",
      "20797  The Macy’s of today grew from the union of sev...   \n",
      "20798  NATO, Russia To Hold Parallel Exercises In Bal...   \n",
      "20799    David Swanson is an author, activist, journa...   \n",
      "\n",
      "                                                 content  \n",
      "0      Darrell Lucus House Dem Aide: We Didn’t Even S...  \n",
      "1      Daniel J. Flynn FLYNN: Hillary Clinton, Big Wo...  \n",
      "2      Consortiumnews.com Why the Truth Might Get You...  \n",
      "3      Jessica Purkiss 15 Civilians Killed In Single ...  \n",
      "4      Howard Portnoy Iranian woman jailed for fictio...  \n",
      "...                                                  ...  \n",
      "20795  Jerome Hudson Rapper T.I.: Trump a ’Poster Chi...  \n",
      "20796  Benjamin Hoffman N.F.L. Playoffs: Schedule, Ma...  \n",
      "20797  Michael J. de la Merced and Rachel Abrams Macy...  \n",
      "20798  Alex Ansary NATO, Russia To Hold Parallel Exer...  \n",
      "20799            David Swanson What Keeps the F-35 Alive  \n",
      "\n",
      "[20800 rows x 5 columns]\n",
      "0        1\n",
      "1        0\n",
      "2        1\n",
      "3        1\n",
      "4        1\n",
      "        ..\n",
      "20795    0\n",
      "20796    0\n",
      "20797    0\n",
      "20798    1\n",
      "20799    1\n",
      "Name: label, Length: 20800, dtype: int64\n"
     ]
    }
   ],
   "source": [
    "print(X)\n",
    "print(Y)"
   ]
  },
  {
   "cell_type": "code",
   "execution_count": 10,
   "id": "389cec8f",
   "metadata": {
    "execution": {
     "iopub.execute_input": "2022-07-03T07:48:07.361455Z",
     "iopub.status.busy": "2022-07-03T07:48:07.361065Z",
     "iopub.status.idle": "2022-07-03T07:48:07.365921Z",
     "shell.execute_reply": "2022-07-03T07:48:07.364789Z"
    },
    "papermill": {
     "duration": 0.017296,
     "end_time": "2022-07-03T07:48:07.368165",
     "exception": false,
     "start_time": "2022-07-03T07:48:07.350869",
     "status": "completed"
    },
    "tags": []
   },
   "outputs": [],
   "source": [
    "port_stem = PorterStemmer()"
   ]
  },
  {
   "cell_type": "code",
   "execution_count": 11,
   "id": "9450605d",
   "metadata": {
    "execution": {
     "iopub.execute_input": "2022-07-03T07:48:07.387976Z",
     "iopub.status.busy": "2022-07-03T07:48:07.386779Z",
     "iopub.status.idle": "2022-07-03T07:48:07.393742Z",
     "shell.execute_reply": "2022-07-03T07:48:07.392815Z"
    },
    "papermill": {
     "duration": 0.019189,
     "end_time": "2022-07-03T07:48:07.395907",
     "exception": false,
     "start_time": "2022-07-03T07:48:07.376718",
     "status": "completed"
    },
    "tags": []
   },
   "outputs": [],
   "source": [
    "def stemming(content):\n",
    "    stemmed_content = re.sub('[^a-zA-Z]',' ',content)\n",
    "    stemmed_content = stemmed_content.lower()\n",
    "    stemmed_content = stemmed_content.split()\n",
    "    stemmed_content = [port_stem.stem(word) for word in stemmed_content if not word in stopwords.words('english')]\n",
    "    stemmed_content = ' '.join(stemmed_content)\n",
    "    return stemmed_content"
   ]
  },
  {
   "cell_type": "code",
   "execution_count": 12,
   "id": "b2760354",
   "metadata": {
    "execution": {
     "iopub.execute_input": "2022-07-03T07:48:07.415873Z",
     "iopub.status.busy": "2022-07-03T07:48:07.415143Z",
     "iopub.status.idle": "2022-07-03T07:48:52.864921Z",
     "shell.execute_reply": "2022-07-03T07:48:52.863692Z"
    },
    "papermill": {
     "duration": 45.463267,
     "end_time": "2022-07-03T07:48:52.867901",
     "exception": false,
     "start_time": "2022-07-03T07:48:07.404634",
     "status": "completed"
    },
    "tags": []
   },
   "outputs": [],
   "source": [
    "news_dataset['content'] = news_dataset['content'].apply(stemming)"
   ]
  },
  {
   "cell_type": "code",
   "execution_count": 13,
   "id": "b3249030",
   "metadata": {
    "execution": {
     "iopub.execute_input": "2022-07-03T07:48:52.887509Z",
     "iopub.status.busy": "2022-07-03T07:48:52.887087Z",
     "iopub.status.idle": "2022-07-03T07:48:52.894491Z",
     "shell.execute_reply": "2022-07-03T07:48:52.893294Z"
    },
    "papermill": {
     "duration": 0.019625,
     "end_time": "2022-07-03T07:48:52.896789",
     "exception": false,
     "start_time": "2022-07-03T07:48:52.877164",
     "status": "completed"
    },
    "tags": []
   },
   "outputs": [
    {
     "name": "stdout",
     "output_type": "stream",
     "text": [
      "0        darrel lucu hous dem aid even see comey letter...\n",
      "1        daniel j flynn flynn hillari clinton big woman...\n",
      "2                   consortiumnew com truth might get fire\n",
      "3        jessica purkiss civilian kill singl us airstri...\n",
      "4        howard portnoy iranian woman jail fiction unpu...\n",
      "                               ...                        \n",
      "20795    jerom hudson rapper trump poster child white s...\n",
      "20796    benjamin hoffman n f l playoff schedul matchup...\n",
      "20797    michael j de la merc rachel abram maci said re...\n",
      "20798    alex ansari nato russia hold parallel exercis ...\n",
      "20799                            david swanson keep f aliv\n",
      "Name: content, Length: 20800, dtype: object\n"
     ]
    }
   ],
   "source": [
    "print(news_dataset['content'])"
   ]
  },
  {
   "cell_type": "code",
   "execution_count": 14,
   "id": "24a6b69d",
   "metadata": {
    "execution": {
     "iopub.execute_input": "2022-07-03T07:48:52.915820Z",
     "iopub.status.busy": "2022-07-03T07:48:52.915394Z",
     "iopub.status.idle": "2022-07-03T07:48:52.922786Z",
     "shell.execute_reply": "2022-07-03T07:48:52.921904Z"
    },
    "papermill": {
     "duration": 0.019898,
     "end_time": "2022-07-03T07:48:52.925377",
     "exception": false,
     "start_time": "2022-07-03T07:48:52.905479",
     "status": "completed"
    },
    "tags": []
   },
   "outputs": [],
   "source": [
    "#separating the data and label\n",
    "X = news_dataset['content'].values\n",
    "Y = news_dataset['label'].values"
   ]
  },
  {
   "cell_type": "code",
   "execution_count": 15,
   "id": "7b1b3eb5",
   "metadata": {
    "execution": {
     "iopub.execute_input": "2022-07-03T07:48:52.945263Z",
     "iopub.status.busy": "2022-07-03T07:48:52.944615Z",
     "iopub.status.idle": "2022-07-03T07:48:52.950755Z",
     "shell.execute_reply": "2022-07-03T07:48:52.949632Z"
    },
    "papermill": {
     "duration": 0.018963,
     "end_time": "2022-07-03T07:48:52.953227",
     "exception": false,
     "start_time": "2022-07-03T07:48:52.934264",
     "status": "completed"
    },
    "tags": []
   },
   "outputs": [
    {
     "name": "stdout",
     "output_type": "stream",
     "text": [
      "['darrel lucu hous dem aid even see comey letter jason chaffetz tweet'\n",
      " 'daniel j flynn flynn hillari clinton big woman campu breitbart'\n",
      " 'consortiumnew com truth might get fire' ...\n",
      " 'michael j de la merc rachel abram maci said receiv takeov approach hudson bay new york time'\n",
      " 'alex ansari nato russia hold parallel exercis balkan'\n",
      " 'david swanson keep f aliv']\n",
      "[1 0 1 ... 0 1 1]\n"
     ]
    }
   ],
   "source": [
    "print(X)\n",
    "print(Y)"
   ]
  },
  {
   "cell_type": "code",
   "execution_count": 16,
   "id": "1289c765",
   "metadata": {
    "execution": {
     "iopub.execute_input": "2022-07-03T07:48:52.972881Z",
     "iopub.status.busy": "2022-07-03T07:48:52.972444Z",
     "iopub.status.idle": "2022-07-03T07:48:52.979314Z",
     "shell.execute_reply": "2022-07-03T07:48:52.978205Z"
    },
    "papermill": {
     "duration": 0.019339,
     "end_time": "2022-07-03T07:48:52.981392",
     "exception": false,
     "start_time": "2022-07-03T07:48:52.962053",
     "status": "completed"
    },
    "tags": []
   },
   "outputs": [
    {
     "data": {
      "text/plain": [
       "(20800,)"
      ]
     },
     "execution_count": 16,
     "metadata": {},
     "output_type": "execute_result"
    }
   ],
   "source": [
    "Y.shape"
   ]
  },
  {
   "cell_type": "code",
   "execution_count": 17,
   "id": "9f7c43db",
   "metadata": {
    "execution": {
     "iopub.execute_input": "2022-07-03T07:48:53.001231Z",
     "iopub.status.busy": "2022-07-03T07:48:53.000760Z",
     "iopub.status.idle": "2022-07-03T07:48:53.696020Z",
     "shell.execute_reply": "2022-07-03T07:48:53.694646Z"
    },
    "papermill": {
     "duration": 0.708554,
     "end_time": "2022-07-03T07:48:53.698983",
     "exception": false,
     "start_time": "2022-07-03T07:48:52.990429",
     "status": "completed"
    },
    "tags": []
   },
   "outputs": [],
   "source": [
    "# converting the textual data to numerical data\n",
    "vectorizer = TfidfVectorizer()\n",
    "vectorizer.fit(X)\n",
    "X = vectorizer.transform(X)"
   ]
  },
  {
   "cell_type": "code",
   "execution_count": 18,
   "id": "75c04de0",
   "metadata": {
    "execution": {
     "iopub.execute_input": "2022-07-03T07:48:53.718948Z",
     "iopub.status.busy": "2022-07-03T07:48:53.718567Z",
     "iopub.status.idle": "2022-07-03T07:48:53.728645Z",
     "shell.execute_reply": "2022-07-03T07:48:53.727393Z"
    },
    "papermill": {
     "duration": 0.023006,
     "end_time": "2022-07-03T07:48:53.731186",
     "exception": false,
     "start_time": "2022-07-03T07:48:53.708180",
     "status": "completed"
    },
    "tags": []
   },
   "outputs": [
    {
     "name": "stdout",
     "output_type": "stream",
     "text": [
      "  (0, 15686)\t0.28485063562728646\n",
      "  (0, 13473)\t0.2565896679337957\n",
      "  (0, 8909)\t0.3635963806326075\n",
      "  (0, 8630)\t0.29212514087043684\n",
      "  (0, 7692)\t0.24785219520671603\n",
      "  (0, 7005)\t0.21874169089359144\n",
      "  (0, 4973)\t0.233316966909351\n",
      "  (0, 3792)\t0.2705332480845492\n",
      "  (0, 3600)\t0.3598939188262559\n",
      "  (0, 2959)\t0.2468450128533713\n",
      "  (0, 2483)\t0.3676519686797209\n",
      "  (0, 267)\t0.27010124977708766\n",
      "  (1, 16799)\t0.30071745655510157\n",
      "  (1, 6816)\t0.1904660198296849\n",
      "  (1, 5503)\t0.7143299355715573\n",
      "  (1, 3568)\t0.26373768806048464\n",
      "  (1, 2813)\t0.19094574062359204\n",
      "  (1, 2223)\t0.3827320386859759\n",
      "  (1, 1894)\t0.15521974226349364\n",
      "  (1, 1497)\t0.2939891562094648\n",
      "  (2, 15611)\t0.41544962664721613\n",
      "  (2, 9620)\t0.49351492943649944\n",
      "  (2, 5968)\t0.3474613386728292\n",
      "  (2, 5389)\t0.3866530551182615\n",
      "  (2, 3103)\t0.46097489583229645\n",
      "  :\t:\n",
      "  (20797, 13122)\t0.2482526352197606\n",
      "  (20797, 12344)\t0.27263457663336677\n",
      "  (20797, 12138)\t0.24778257724396507\n",
      "  (20797, 10306)\t0.08038079000566466\n",
      "  (20797, 9588)\t0.174553480255222\n",
      "  (20797, 9518)\t0.2954204003420313\n",
      "  (20797, 8988)\t0.36160868928090795\n",
      "  (20797, 8364)\t0.22322585870464118\n",
      "  (20797, 7042)\t0.21799048897828688\n",
      "  (20797, 3643)\t0.21155500613623743\n",
      "  (20797, 1287)\t0.33538056804139865\n",
      "  (20797, 699)\t0.30685846079762347\n",
      "  (20797, 43)\t0.29710241860700626\n",
      "  (20798, 13046)\t0.22363267488270608\n",
      "  (20798, 11052)\t0.4460515589182236\n",
      "  (20798, 10177)\t0.3192496370187028\n",
      "  (20798, 6889)\t0.32496285694299426\n",
      "  (20798, 5032)\t0.4083701450239529\n",
      "  (20798, 1125)\t0.4460515589182236\n",
      "  (20798, 588)\t0.3112141524638974\n",
      "  (20798, 350)\t0.28446937819072576\n",
      "  (20799, 14852)\t0.5677577267055112\n",
      "  (20799, 8036)\t0.45983893273780013\n",
      "  (20799, 3623)\t0.37927626273066584\n",
      "  (20799, 377)\t0.5677577267055112\n"
     ]
    }
   ],
   "source": [
    "print(X)"
   ]
  },
  {
   "cell_type": "code",
   "execution_count": 19,
   "id": "f2d1e5a1",
   "metadata": {
    "execution": {
     "iopub.execute_input": "2022-07-03T07:48:53.751623Z",
     "iopub.status.busy": "2022-07-03T07:48:53.750966Z",
     "iopub.status.idle": "2022-07-03T07:48:53.771846Z",
     "shell.execute_reply": "2022-07-03T07:48:53.770605Z"
    },
    "papermill": {
     "duration": 0.034168,
     "end_time": "2022-07-03T07:48:53.774734",
     "exception": false,
     "start_time": "2022-07-03T07:48:53.740566",
     "status": "completed"
    },
    "tags": []
   },
   "outputs": [],
   "source": [
    "X_train, X_test, Y_train, Y_test = train_test_split(X, Y, test_size = 0.2, stratify=Y, random_state=2)"
   ]
  },
  {
   "cell_type": "code",
   "execution_count": 20,
   "id": "d233ff9f",
   "metadata": {
    "execution": {
     "iopub.execute_input": "2022-07-03T07:48:53.794549Z",
     "iopub.status.busy": "2022-07-03T07:48:53.794157Z",
     "iopub.status.idle": "2022-07-03T07:48:53.799656Z",
     "shell.execute_reply": "2022-07-03T07:48:53.798181Z"
    },
    "papermill": {
     "duration": 0.018808,
     "end_time": "2022-07-03T07:48:53.802499",
     "exception": false,
     "start_time": "2022-07-03T07:48:53.783691",
     "status": "completed"
    },
    "tags": []
   },
   "outputs": [],
   "source": [
    "model = LogisticRegression()"
   ]
  },
  {
   "cell_type": "code",
   "execution_count": 21,
   "id": "1c5632d5",
   "metadata": {
    "execution": {
     "iopub.execute_input": "2022-07-03T07:48:53.823290Z",
     "iopub.status.busy": "2022-07-03T07:48:53.822664Z",
     "iopub.status.idle": "2022-07-03T07:48:54.298527Z",
     "shell.execute_reply": "2022-07-03T07:48:54.297083Z"
    },
    "papermill": {
     "duration": 0.490658,
     "end_time": "2022-07-03T07:48:54.302819",
     "exception": false,
     "start_time": "2022-07-03T07:48:53.812161",
     "status": "completed"
    },
    "tags": []
   },
   "outputs": [
    {
     "data": {
      "text/plain": [
       "LogisticRegression()"
      ]
     },
     "execution_count": 21,
     "metadata": {},
     "output_type": "execute_result"
    }
   ],
   "source": [
    "model.fit(X_train,Y_train)"
   ]
  },
  {
   "cell_type": "code",
   "execution_count": 22,
   "id": "605969ad",
   "metadata": {
    "execution": {
     "iopub.execute_input": "2022-07-03T07:48:54.375728Z",
     "iopub.status.busy": "2022-07-03T07:48:54.375054Z",
     "iopub.status.idle": "2022-07-03T07:48:54.387046Z",
     "shell.execute_reply": "2022-07-03T07:48:54.385771Z"
    },
    "papermill": {
     "duration": 0.057122,
     "end_time": "2022-07-03T07:48:54.390459",
     "exception": false,
     "start_time": "2022-07-03T07:48:54.333337",
     "status": "completed"
    },
    "tags": []
   },
   "outputs": [],
   "source": [
    "# accuracy score on the training data\n",
    "X_train_prediction = model.predict(X_train)\n",
    "training_data_accuracy = accuracy_score(X_train_prediction, Y_train)"
   ]
  },
  {
   "cell_type": "code",
   "execution_count": 23,
   "id": "8b5b1187",
   "metadata": {
    "execution": {
     "iopub.execute_input": "2022-07-03T07:48:54.416808Z",
     "iopub.status.busy": "2022-07-03T07:48:54.416447Z",
     "iopub.status.idle": "2022-07-03T07:48:54.421861Z",
     "shell.execute_reply": "2022-07-03T07:48:54.420884Z"
    },
    "papermill": {
     "duration": 0.018423,
     "end_time": "2022-07-03T07:48:54.424574",
     "exception": false,
     "start_time": "2022-07-03T07:48:54.406151",
     "status": "completed"
    },
    "tags": []
   },
   "outputs": [
    {
     "name": "stdout",
     "output_type": "stream",
     "text": [
      "Accuracy score of the training data :  0.9865985576923076\n"
     ]
    }
   ],
   "source": [
    "print('Accuracy score of the training data : ', training_data_accuracy)"
   ]
  },
  {
   "cell_type": "code",
   "execution_count": 24,
   "id": "f191c21b",
   "metadata": {
    "execution": {
     "iopub.execute_input": "2022-07-03T07:48:54.446137Z",
     "iopub.status.busy": "2022-07-03T07:48:54.444911Z",
     "iopub.status.idle": "2022-07-03T07:48:54.451646Z",
     "shell.execute_reply": "2022-07-03T07:48:54.450516Z"
    },
    "papermill": {
     "duration": 0.019845,
     "end_time": "2022-07-03T07:48:54.454420",
     "exception": false,
     "start_time": "2022-07-03T07:48:54.434575",
     "status": "completed"
    },
    "tags": []
   },
   "outputs": [],
   "source": [
    "# accuracy score on the test data\n",
    "X_test_prediction = model.predict(X_test)\n",
    "test_data_accuracy = accuracy_score(X_test_prediction, Y_test)"
   ]
  },
  {
   "cell_type": "code",
   "execution_count": 25,
   "id": "2550a5c4",
   "metadata": {
    "execution": {
     "iopub.execute_input": "2022-07-03T07:48:54.475210Z",
     "iopub.status.busy": "2022-07-03T07:48:54.474513Z",
     "iopub.status.idle": "2022-07-03T07:48:54.480137Z",
     "shell.execute_reply": "2022-07-03T07:48:54.478750Z"
    },
    "papermill": {
     "duration": 0.018622,
     "end_time": "2022-07-03T07:48:54.482462",
     "exception": false,
     "start_time": "2022-07-03T07:48:54.463840",
     "status": "completed"
    },
    "tags": []
   },
   "outputs": [
    {
     "name": "stdout",
     "output_type": "stream",
     "text": [
      "Accuracy score of the test data :  0.9790865384615385\n"
     ]
    }
   ],
   "source": [
    "print('Accuracy score of the test data : ',test_data_accuracy)"
   ]
  },
  {
   "cell_type": "code",
   "execution_count": 26,
   "id": "fbaf2c1c",
   "metadata": {
    "execution": {
     "iopub.execute_input": "2022-07-03T07:48:54.503375Z",
     "iopub.status.busy": "2022-07-03T07:48:54.502114Z",
     "iopub.status.idle": "2022-07-03T07:48:54.510769Z",
     "shell.execute_reply": "2022-07-03T07:48:54.509572Z"
    },
    "papermill": {
     "duration": 0.023524,
     "end_time": "2022-07-03T07:48:54.515154",
     "exception": false,
     "start_time": "2022-07-03T07:48:54.491630",
     "status": "completed"
    },
    "tags": []
   },
   "outputs": [
    {
     "name": "stdout",
     "output_type": "stream",
     "text": [
      "[1]\n",
      "The news is Fake\n"
     ]
    }
   ],
   "source": [
    "X_new = X_test[5]\n",
    "\n",
    "prediction = model.predict(X_new)\n",
    "print(prediction)\n",
    "\n",
    "if (prediction[0]==0):\n",
    "  print('The news is Real')\n",
    "else:\n",
    "  print('The news is Fake')"
   ]
  },
  {
   "cell_type": "code",
   "execution_count": 27,
   "id": "43977d80",
   "metadata": {
    "execution": {
     "iopub.execute_input": "2022-07-03T07:48:54.536994Z",
     "iopub.status.busy": "2022-07-03T07:48:54.536188Z",
     "iopub.status.idle": "2022-07-03T07:48:54.542434Z",
     "shell.execute_reply": "2022-07-03T07:48:54.541312Z"
    },
    "papermill": {
     "duration": 0.019782,
     "end_time": "2022-07-03T07:48:54.544924",
     "exception": false,
     "start_time": "2022-07-03T07:48:54.525142",
     "status": "completed"
    },
    "tags": []
   },
   "outputs": [
    {
     "name": "stdout",
     "output_type": "stream",
     "text": [
      "1\n"
     ]
    }
   ],
   "source": [
    "print(Y_test[5])"
   ]
  }
 ],
 "metadata": {
  "kernelspec": {
   "display_name": "Python 3",
   "language": "python",
   "name": "python3"
  },
  "language_info": {
   "codemirror_mode": {
    "name": "ipython",
    "version": 3
   },
   "file_extension": ".py",
   "mimetype": "text/x-python",
   "name": "python",
   "nbconvert_exporter": "python",
   "pygments_lexer": "ipython3",
   "version": "3.7.12"
  },
  "papermill": {
   "default_parameters": {},
   "duration": 63.609864,
   "end_time": "2022-07-03T07:48:55.378481",
   "environment_variables": {},
   "exception": null,
   "input_path": "__notebook__.ipynb",
   "output_path": "__notebook__.ipynb",
   "parameters": {},
   "start_time": "2022-07-03T07:47:51.768617",
   "version": "2.3.4"
  }
 },
 "nbformat": 4,
 "nbformat_minor": 5
}
